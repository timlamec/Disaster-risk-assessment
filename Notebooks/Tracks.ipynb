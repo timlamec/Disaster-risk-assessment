{
 "cells": [
  {
   "cell_type": "code",
   "execution_count": 1,
   "metadata": {},
   "outputs": [
    {
     "name": "stdout",
     "output_type": "stream",
     "text": [
      "2021-03-14 22:15:23,378 - climada - DEBUG - Loading default config file: /Users/zhangwenlan/miniconda3/climada_python-1.5.1/climada/conf/defaults.conf\n"
     ]
    }
   ],
   "source": [
    "import climada\n",
    "from climada.hazard import *\n",
    "from climada.hazard import TCTracks\n",
    "import pandas as pd\n",
    "from climada.hazard import Centroids, TropCyclone"
   ]
  },
  {
   "cell_type": "code",
   "execution_count": 2,
   "metadata": {},
   "outputs": [
    {
     "name": "stdout",
     "output_type": "stream",
     "text": [
      "2021-03-14 22:16:25,365 - climada.hazard.tc_tracks - INFO - Progress: 10%\n",
      "2021-03-14 22:16:26,397 - climada.hazard.tc_tracks - INFO - Progress: 20%\n",
      "2021-03-14 22:16:27,402 - climada.hazard.tc_tracks - INFO - Progress: 30%\n",
      "2021-03-14 22:16:28,444 - climada.hazard.tc_tracks - INFO - Progress: 40%\n",
      "2021-03-14 22:16:29,588 - climada.hazard.tc_tracks - INFO - Progress: 50%\n",
      "2021-03-14 22:16:30,614 - climada.hazard.tc_tracks - INFO - Progress: 61%\n",
      "2021-03-14 22:16:31,616 - climada.hazard.tc_tracks - INFO - Progress: 71%\n",
      "2021-03-14 22:16:32,554 - climada.hazard.tc_tracks - INFO - Progress: 81%\n",
      "2021-03-14 22:16:33,615 - climada.hazard.tc_tracks - INFO - Progress: 91%\n",
      "2021-03-14 22:16:37,491 - climada.hazard.tc_tracks - INFO - Progress: 13%\n",
      "2021-03-14 22:16:37,549 - climada.hazard.tc_tracks - INFO - Progress: 26%\n",
      "2021-03-14 22:16:37,617 - climada.hazard.tc_tracks - INFO - Progress: 40%\n",
      "2021-03-14 22:16:37,682 - climada.hazard.tc_tracks - INFO - Progress: 53%\n",
      "2021-03-14 22:16:37,748 - climada.hazard.tc_tracks - INFO - Progress: 66%\n",
      "2021-03-14 22:16:37,803 - climada.hazard.tc_tracks - INFO - Progress: 80%\n",
      "2021-03-14 22:16:37,853 - climada.hazard.tc_tracks - INFO - Progress: 93%\n"
     ]
    },
    {
     "data": {
      "text/html": [
       "<div>\n",
       "<style scoped>\n",
       "    .dataframe tbody tr th:only-of-type {\n",
       "        vertical-align: middle;\n",
       "    }\n",
       "\n",
       "    .dataframe tbody tr th {\n",
       "        vertical-align: top;\n",
       "    }\n",
       "\n",
       "    .dataframe thead th {\n",
       "        text-align: right;\n",
       "    }\n",
       "</style>\n",
       "<table border=\"1\" class=\"dataframe\">\n",
       "  <thead>\n",
       "    <tr style=\"text-align: right;\">\n",
       "      <th></th>\n",
       "      <th>0</th>\n",
       "    </tr>\n",
       "  </thead>\n",
       "  <tbody>\n",
       "    <tr>\n",
       "      <th>2003249N14329</th>\n",
       "      <td>ISABEL</td>\n",
       "    </tr>\n",
       "    <tr>\n",
       "      <th>2004247N10332</th>\n",
       "      <td>IVAN</td>\n",
       "    </tr>\n",
       "    <tr>\n",
       "      <th>2005192N11318</th>\n",
       "      <td>EMILY</td>\n",
       "    </tr>\n",
       "    <tr>\n",
       "      <th>2005236N23285</th>\n",
       "      <td>KATRINA</td>\n",
       "    </tr>\n",
       "    <tr>\n",
       "      <th>2005261N21290</th>\n",
       "      <td>RITA</td>\n",
       "    </tr>\n",
       "    <tr>\n",
       "      <th>2005289N18282</th>\n",
       "      <td>WILMA</td>\n",
       "    </tr>\n",
       "    <tr>\n",
       "      <th>2007225N12331</th>\n",
       "      <td>DEAN</td>\n",
       "    </tr>\n",
       "    <tr>\n",
       "      <th>2007244N12303</th>\n",
       "      <td>FELIX</td>\n",
       "    </tr>\n",
       "    <tr>\n",
       "      <th>2016273N13300</th>\n",
       "      <td>MATTHEW</td>\n",
       "    </tr>\n",
       "    <tr>\n",
       "      <th>2017242N16333</th>\n",
       "      <td>IRMA</td>\n",
       "    </tr>\n",
       "    <tr>\n",
       "      <th>2017260N12310</th>\n",
       "      <td>MARIA</td>\n",
       "    </tr>\n",
       "    <tr>\n",
       "      <th>2018280N18273</th>\n",
       "      <td>MICHAEL</td>\n",
       "    </tr>\n",
       "    <tr>\n",
       "      <th>2019236N10314</th>\n",
       "      <td>DORIAN</td>\n",
       "    </tr>\n",
       "    <tr>\n",
       "      <th>2019266N11341</th>\n",
       "      <td>LORENZO</td>\n",
       "    </tr>\n",
       "    <tr>\n",
       "      <th>2020318N16289</th>\n",
       "      <td>IOTA</td>\n",
       "    </tr>\n",
       "  </tbody>\n",
       "</table>\n",
       "</div>"
      ],
      "text/plain": [
       "                     0\n",
       "2003249N14329   ISABEL\n",
       "2004247N10332     IVAN\n",
       "2005192N11318    EMILY\n",
       "2005236N23285  KATRINA\n",
       "2005261N21290     RITA\n",
       "2005289N18282    WILMA\n",
       "2007225N12331     DEAN\n",
       "2007244N12303    FELIX\n",
       "2016273N13300  MATTHEW\n",
       "2017242N16333     IRMA\n",
       "2017260N12310    MARIA\n",
       "2018280N18273  MICHAEL\n",
       "2019236N10314   DORIAN\n",
       "2019266N11341  LORENZO\n",
       "2020318N16289     IOTA"
      ]
     },
     "execution_count": 2,
     "metadata": {},
     "output_type": "execute_result"
    }
   ],
   "source": [
    "# '2017242N16333' = TC Irma, check this one for example\n",
    "\n",
    "\n",
    "tracks_NA = TCTracks() \n",
    "tracks_NA.read_ibtracs_netcdf(year_range=(2000, 2020), basin='NA') # try different ranges \n",
    "\n",
    "\n",
    "# check cat 5 storms and make table\n",
    "\n",
    "t = [tracks_NA.data[i].sid for i in range(len(tracks_NA.data)) if tracks_NA.data[i].category == 5]\n",
    "tracks_NA.read_ibtracs_netcdf(storm_id=t, basin='NA')\n",
    "\n",
    "# names and SID (sid is what we need to retrieve specific tracks)\n",
    "\n",
    "names = [tracks_NA.data[i].name for i in range(len(tracks_NA.data))]\n",
    "sid = [tracks_NA.data[i].sid for i in range(len(tracks_NA.data))]\n",
    "sidnames = pd.DataFrame(names,sid)\n",
    "\n",
    "sidnames"
   ]
  },
  {
   "cell_type": "code",
   "execution_count": 3,
   "metadata": {},
   "outputs": [
    {
     "name": "stdout",
     "output_type": "stream",
     "text": [
      "2021-03-14 22:16:38,062 - climada.hazard.tc_tracks - INFO - No tracks with given IDs ['TRACK_ID'].\n",
      "2021-03-14 22:16:38,197 - climada.hazard.tc_tracks - INFO - No tracks in basin NA.\n",
      "2021-03-14 22:16:38,198 - climada.hazard.tc_tracks - INFO - There are no tracks matching the specified requirements.\n",
      "2021-03-14 22:16:38,215 - climada.hazard.tc_tracks - INFO - Interpolating 0 tracks to 0.5h time steps.\n",
      "2021-03-14 22:16:38,215 - climada.hazard.tc_tracks - INFO - No tracks to plot\n"
     ]
    },
    {
     "ename": "AttributeError",
     "evalue": "'NoneType' object has no attribute 'get_legend'",
     "output_type": "error",
     "traceback": [
      "\u001b[0;31m---------------------------------------------------------------------------\u001b[0m",
      "\u001b[0;31mAttributeError\u001b[0m                            Traceback (most recent call last)",
      "\u001b[0;32m<ipython-input-3-8aeba3b62eac>\u001b[0m in \u001b[0;36m<module>\u001b[0;34m\u001b[0m\n\u001b[1;32m     10\u001b[0m \u001b[0;34m\u001b[0m\u001b[0m\n\u001b[1;32m     11\u001b[0m \u001b[0max\u001b[0m \u001b[0;34m=\u001b[0m \u001b[0mtracks_NA\u001b[0m\u001b[0;34m.\u001b[0m\u001b[0mplot\u001b[0m\u001b[0;34m(\u001b[0m\u001b[0;34m)\u001b[0m\u001b[0;34m\u001b[0m\u001b[0;34m\u001b[0m\u001b[0m\n\u001b[0;32m---> 12\u001b[0;31m \u001b[0max\u001b[0m\u001b[0;34m.\u001b[0m\u001b[0mget_legend\u001b[0m\u001b[0;34m(\u001b[0m\u001b[0;34m)\u001b[0m\u001b[0;34m.\u001b[0m\u001b[0m_loc\u001b[0m \u001b[0;34m=\u001b[0m \u001b[0;36m1\u001b[0m \u001b[0;31m# correct legend location\u001b[0m\u001b[0;34m\u001b[0m\u001b[0;34m\u001b[0m\u001b[0m\n\u001b[0m\u001b[1;32m     13\u001b[0m \u001b[0max\u001b[0m\u001b[0;34m.\u001b[0m\u001b[0mset_title\u001b[0m\u001b[0;34m(\u001b[0m\u001b[0;34m'whatever'\u001b[0m\u001b[0;34m)\u001b[0m \u001b[0;31m# set title\u001b[0m\u001b[0;34m\u001b[0m\u001b[0;34m\u001b[0m\u001b[0m\n\u001b[1;32m     14\u001b[0m \u001b[0max\u001b[0m\u001b[0;34m.\u001b[0m\u001b[0mset_extent\u001b[0m\u001b[0;34m(\u001b[0m\u001b[0;36m20.572194\u001b[0m\u001b[0;34m,\u001b[0m \u001b[0;34m-\u001b[0m\u001b[0;36m74.90327\u001b[0m\u001b[0;34m,\u001b[0m \u001b[0;36m16.206957\u001b[0m\u001b[0;34m,\u001b[0m \u001b[0;34m-\u001b[0m\u001b[0;36m68.623743\u001b[0m\u001b[0;34m)\u001b[0m \u001b[0;31m# pls check the order of the coordinates, this should be a big box aorund haiti\u001b[0m\u001b[0;34m\u001b[0m\u001b[0;34m\u001b[0m\u001b[0m\n",
      "\u001b[0;31mAttributeError\u001b[0m: 'NoneType' object has no attribute 'get_legend'"
     ]
    }
   ],
   "source": [
    "#check one of the tracks we found and visualize\n",
    "\n",
    "\n",
    "tracks_NA.read_ibtracs_netcdf(storm_id=\"TRACK_ID\", basin = \"NA\")\n",
    "\n",
    "# interpolate\n",
    "\n",
    "tracks_NA.equal_timestep(time_step_h = 0.5)\n",
    "\n",
    "\n",
    "ax = tracks_NA.plot()\n",
    "ax.get_legend()._loc = 1 # correct legend location\n",
    "ax.set_title('whatever') # set title\n",
    "ax.set_extent(20.572194, -74.90327, 16.206957, -68.623743) # pls check the order of the coordinates, this should be a big box aorund haiti\n",
    "\n",
    "\n"
   ]
  },
  {
   "cell_type": "code",
   "execution_count": null,
   "metadata": {},
   "outputs": [],
   "source": [
    "# select number of synthetic tracks to generate per present tracks.\n",
    "# see more configutration options (e.g. opening angle)\n",
    "tr_irma.calc_random_walk(ens_size=5)\n",
    "tr_irma.plot()\n",
    "\n",
    "from climada import hazard.tc_tracks_synth\n",
    "\n",
    "# if that doesnt work try this: \n",
    "\n",
    "tc_tracks_synth.calc_perturbed_trajectories(TRACKS,\n",
    "nb_synth_tracks=9,\n",
    "max_shift_ini=0.75,\n",
    "max_dspeed_rel=0.3,\n",
    "max_ddirection=0.017453292519943295,\n",
    "autocorr_dspeed=0.85,\n",
    "autocorr_ddirection=0.85,\n",
    "seed=54, decay=True)\n"
   ]
  },
  {
   "cell_type": "code",
   "execution_count": null,
   "metadata": {},
   "outputs": [],
   "source": [
    "# construct centroids\n",
    "min_lat, max_lat, min_lon, max_lon = 16.99375, 21.95625, -72.48125, -61.66875 # change them\n",
    "cent = Centroids()\n",
    "cent.set_raster_from_pnt_bounds((min_lon, min_lat, max_lon, max_lat), res=0.12)\n",
    "cent.check()\n",
    "cent.plot()\n",
    "\n"
   ]
  },
  {
   "cell_type": "code",
   "execution_count": null,
   "metadata": {},
   "outputs": [],
   "source": [
    "# make hazard\n",
    "# construct tropical cyclones\n",
    "tc = TropCyclone()\n",
    "tc.set_from_tracks(tracks, centroids=cent)\n",
    "#tc_irma.set_from_tracks(tr_irma) # try without given centroids\n",
    "tc.check()\n",
    "tc.plot_intensity('2017242N16333')      # IRMA\n",
    "tc.plot_intensity('2017242N16333_gen2') # IRMA's synthetic track 2\n",
    "\n",
    "\n",
    "tc.write_raster()\n",
    "tc_write_hdf5()\n"
   ]
  }
 ],
 "metadata": {
  "kernelspec": {
   "display_name": "Python 3",
   "language": "python",
   "name": "python3"
  },
  "language_info": {
   "codemirror_mode": {
    "name": "ipython",
    "version": 3
   },
   "file_extension": ".py",
   "mimetype": "text/x-python",
   "name": "python",
   "nbconvert_exporter": "python",
   "pygments_lexer": "ipython3",
   "version": "3.7.9"
  }
 },
 "nbformat": 4,
 "nbformat_minor": 4
}
