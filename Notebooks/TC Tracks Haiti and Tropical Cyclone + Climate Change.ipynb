{
 "cells": [
  {
   "cell_type": "code",
   "execution_count": null,
   "metadata": {},
   "outputs": [],
   "source": [
    "%matplotlib inline\n",
    "from climada.hazard import TCTracks\n",
    "from climada.hazard import tc_tracks_synth\n",
    "\n",
    "tr = TCTracks()\n",
    "tr.read_ibtracs_netcdf(provider='usa', basin = \"NA\", year_range=(1990,2020)) \n",
    "\n",
    "tr.equal_timestep(0.5)"
   ]
  },
  {
   "cell_type": "code",
   "execution_count": null,
   "metadata": {},
   "outputs": [],
   "source": [
    "# script for extracting cat 5 storms\n",
    "\n",
    "t = [tr.data[i].sid for i in range(len(tr.data)) if tr.data[i].category == 5]\n",
    "tr_cat5.read_ibtracs_netcdf(storm_id=t, basin='WP')\n",
    "\n",
    "names = [tr_cat5.data[i].name for i in range(len(tr_cat5.data))]\n",
    "sid = [tr_cat5.data[i].sid for i in range(len(tr_cat5.data))]\n",
    "sidnames = pd.DataFrame(names,sid)\n",
    "sidnames"
   ]
  },
  {
   "cell_type": "code",
   "execution_count": 2,
   "metadata": {},
   "outputs": [
    {
     "name": "stdout",
     "output_type": "stream",
     "text": [
      "2021-02-14 20:14:46,465 - climada.hazard.tc_tracks_synth - INFO - Computing 2510 synthetic tracks.\n"
     ]
    }
   ],
   "source": [
    "tc_tracks_synth.calc_perturbed_trajectories(tr,\n",
    "nb_synth_tracks=5,\n",
    "max_shift_ini=0.5,\n",
    "max_dspeed_rel=0.3,\n",
    "max_ddirection=0.01453292519943295,\n",
    "autocorr_dspeed=0.85,\n",
    "autocorr_ddirection=0.01,\n",
    "seed=45, decay=True)"
   ]
  },
  {
   "cell_type": "code",
   "execution_count": null,
   "metadata": {},
   "outputs": [],
   "source": [
    "ax = tr.plot()\n",
    "ax.set_extent([17.4, 20.3, -75, -71.5])"
   ]
  },
  {
   "cell_type": "code",
   "execution_count": null,
   "metadata": {},
   "outputs": [],
   "source": [
    "from climada.hazard import Centroids, TropCyclone\n",
    "\n",
    "# construct centroids\n",
    "minlat, maxlat, minlon, maxlon = 18, 20.1, -74.6, -71.5    \n",
    "cent = Centroids()\n",
    "cent.set_raster_from_pnt_bounds((minlon, minlat, maxlon, maxlat), res=0.01)\n",
    "cent.check()\n",
    "cent.plot()"
   ]
  },
  {
   "cell_type": "code",
   "execution_count": null,
   "metadata": {},
   "outputs": [],
   "source": [
    "# construct tropical cyclones\n",
    "HTI_ensemble = TropCyclone()\n",
    "HTI_ensemble.set_from_tracks(tr, centroids=cent)"
   ]
  },
  {
   "cell_type": "code",
   "execution_count": 27,
   "metadata": {},
   "outputs": [],
   "source": [
    "climatechange_2050_85 = HTI_ensemble.set_climate_scenario_knu(ref_year=2050, rcp_scenario=85)\n",
    "climatechange_2100_85 = HTI_ensemble.set_climate_scenario_knu(ref_year=2100, rcp_scenario=85)\n",
    "climatechange_2050_45 = HTI_ensemble.set_climate_scenario_knu(ref_year=2050, rcp_scenario=45)\n",
    "climatechange_2100_45 = HTI_ensemble.set_climate_scenario_knu(ref_year=2100, rcp_scenario=45)"
   ]
  },
  {
   "cell_type": "code",
   "execution_count": null,
   "metadata": {},
   "outputs": [],
   "source": [
    "climatechange_2050_85.write_hdf5(\"/home/ma/Documents/Climada Haiti Notebooks/Data/TC_HTI_001_3012tr_2050_85.h5\")\n",
    "climatechange_2100_85.write_hdf5(\"/home/ma/Documents/Climada Haiti Notebooks/Data/TC_HTI_001_3012tr_2100_85.h5\")\n",
    "climatechange_2050_45.write_hdf5(\"/home/ma/Documents/Climada Haiti Notebooks/Data/TC_HTI_001_3012tr_2050_45.h5\")\n",
    "climatechange_2100_45.write_hdf5(\"/home/ma/Documents/Climada Haiti Notebooks/Data/TC_HTI_001_3012tr_2100_45.h5\")\n",
    "\n",
    "HTI_ensemble.write_hdf5(\"/home/ma/Documents/Climada Haiti Notebooks/Data/TC_HTI_001_3012tr_1990_2020.h5\")"
   ]
  }
 ],
 "metadata": {
  "kernelspec": {
   "display_name": "Python 3",
   "language": "python",
   "name": "python3"
  },
  "language_info": {
   "codemirror_mode": {
    "name": "ipython",
    "version": 3
   },
   "file_extension": ".py",
   "mimetype": "text/x-python",
   "name": "python",
   "nbconvert_exporter": "python",
   "pygments_lexer": "ipython3",
   "version": "3.7.7"
  }
 },
 "nbformat": 4,
 "nbformat_minor": 4
}
